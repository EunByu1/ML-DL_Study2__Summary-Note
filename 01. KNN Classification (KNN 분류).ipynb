{
 "cells": [
  {
   "cell_type": "markdown",
   "id": "d1b8cb6b",
   "metadata": {},
   "source": [
    "# 《 Goal : 생선 이름을 자동으로 알려주는 머신러닝 만들기 》 "
   ]
  },
  {
   "cell_type": "markdown",
   "id": "3ad3f12a",
   "metadata": {},
   "source": [
    "---\n",
    "### 【 Chapter_1. 머신러닝을 왜 사용할까? 】 \n",
    "① 보통 프로그램은 정해진 기준대로 일을 진행함.  \n",
    "② 하지만 기준이 정해지지 않은 프로그램을 진행해야 할 때가 있음.  \n",
    "③ 이럴 때 사용하는 것이 머신러닝임.  \n",
    "<br>  \n",
    "* 머신러닝  \n",
    "$\\,$ : 누가 갈켜주지 않아도, 스스로 기준을 찾아서 일함.  \n",
    "$\\,$ : 찾은 기준을 이용하여, 판별할 수도 있음.<br/>\n",
    "---\n"
   ]
  },
  {
   "cell_type": "markdown",
   "id": "ec6612f6",
   "metadata": {},
   "source": [
    "---\n",
    "### 【 Chapter_2. 이진 분류(Binary Classificatio)란? 】  \n",
    "* 특성 : 데이터의 특징  \n",
    "* 클래스 : 머신러닝에서 사용하는 종류(≠ 파이썬에서 사용하는 클래스)\n",
    "* 분류(Classifiscation) : 여러 개의 클래스 중 하나를 구별해내는 문제  \n",
    "* 이진 분류(Binary Classification) : 2개의 클래스 중 하나를 고르는 문제  \n",
    "---\n"
   ]
  },
  {
   "cell_type": "markdown",
   "id": "48242c61",
   "metadata": {},
   "source": [
    "---  \n",
    "### 【 Chapter_3. 산점도(Scatter Plot)란? 】  \n",
    "* 산점도(Scatter Plot) : x, y축으로 이뤄진 좌표계에 두 변수(x, y)의 관계를 점으로 표현하는 방법  \n",
    "$\\qquad\\qquad\\qquad\\quad$ → 보통 변수자리에는 특성값이 오며, x와 y라는 2개의 자리에 2개의 특성이 오기때문에 완성된 그래프는 2차원 그래프 형태임.  \n",
    "* 맷플롯립 : 과학계산용 그래프를 그리는 대표적인 패키지로, 산점도를 그리기 위해서는 맷플롯립을 import해야함.  \n",
    "---"
   ]
  },
  {
   "cell_type": "code",
   "execution_count": 5,
   "id": "ccf879aa",
   "metadata": {},
   "outputs": [
    {
     "data": {
      "image/png": "[encoded data removed]",
      "text/plain": [
       "<Figure size 432x288 with 1 Axes>"
      ]
     },
     "metadata": {
      "needs_background": "light"
     },
     "output_type": "display_data"
    }
   ],
   "source": [
    "# Chapter_3. 산점도 코드 \n",
    "bream_length = [25.4, 26.3, 26.5, 29.0, 29.0, 29.7, 29.7, 30.0, 30.0, 30.7, 31.0, 31.0, \n",
    "                31.5, 32.0, 32.0, 32.0, 33.0, 33.0, 33.5, 33.5, 34.0, 34.0, 34.5, 35.0, \n",
    "                35.0, 35.0, 35.0, 36.0, 36.0, 37.0, 38.5, 38.5, 39.5, 41.0, 41.0]\n",
    "bream_weight = [242.0, 290.0, 340.0, 363.0, 430.0, 450.0, 500.0, 390.0, 450.0, 500.0, 475.0, 500.0, \n",
    "                500.0, 340.0, 600.0, 600.0, 700.0, 700.0, 610.0, 650.0, 575.0, 685.0, 620.0, 680.0, \n",
    "                700.0, 725.0, 720.0, 714.0, 850.0, 1000.0, 920.0, 955.0, 925.0, 975.0, 950.0]  \n",
    "\n",
    "smelt_length = [9.8, 10.5, 10.6, 11.0, 11.2, 11.3, 11.8, 11.8, 12.0, 12.2, 12.4, 13.0, 14.3, 15.0]\n",
    "smelt_weight = [6.7, 7.5, 7.0, 9.7, 9.8, 8.7, 10.0, 9.9, 9.8, 12.2, 13.4, 12.2, 19.7, 19.9]\n",
    "\n",
    "import matplotlib.pyplot as plt  \n",
    "plt.scatter(bream_length, bream_weight)  \n",
    "plt.scatter(smelt_length, smelt_weight)\n",
    "plt.xlabel('length')\n",
    "plt.ylabel('weight')  \n",
    "plt.show()  "
   ]
  },
  {
   "cell_type": "markdown",
   "id": "0cac4d36",
   "metadata": {},
   "source": [
    "--- \n",
    "### 【 Chapter_4. k-Nearest Neighbors (k - 최근접 이웃 알고리즘 ) 】    \n",
    "[ 개념 정리 ]  \n",
    "* 사이킷런(Scikit - Learn) : 머신러닝 패키지이며, 각 특성의 리스트를 세로 방향으로 늘어뜨린 2차원 리스트가 필요함.  \n",
    "* 훈련(training) : 모델에게 데이터를 전달하여, 모델이 데이터를 기반으로 규칙을 학습하는 과정.  \n",
    "* k-최근접 이웃 알고리즘(k-Nearest Neighbors)  \n",
    "  ① 어떤 데이터에 대한 답을 구할 때 주위의 다른 데이터를 보고 다수를 차지하는 것을 정답으로 사용함.  \n",
    "  $\\quad$ → 즉, 주위의 데이터로 현재 데이터 판단!   \n",
    "  \n",
    "---\n",
    "\n",
    "\n"
   ]
  },
  {
   "cell_type": "markdown",
   "id": "d50f2a67",
   "metadata": {},
   "source": [
    "---   \n",
    "### 【 Chapter_5. 훈련(Training) 】  \n",
    "[ 함수/메서드 정리 ]  \n",
    "* fit(2차원 리스트 형태의 입력 데이터, 1차원 리스트 형태의 타깃 데이터)  \n",
    "$\\,$: 주어진 데이터로 모델(= 프로그램 or 알고리즘)을 훈련시키는 메서드 \n",
    "* score(2차원 리스트 형태의 입력 데이터, 1차원 리스트 형태의 타깃 데이터)  \n",
    "$\\,$: 모델을 평가하는 메서드로, 0~1값 반환(0 = 0점, 1 = 100점)  \n",
    "$\\;$ → 이때 이 값을 '정확도'라고 부름  \n",
    "* predict(2차원 리스트 형태의 새로운 데이터)  \n",
    "$\\,$: 새로운 데이터의 정답을 예측하는 메서드  \n",
    "\n",
    "---\n"
   ]
  }
 ],
 "metadata": {
  "kernelspec": {
   "display_name": "Python 3 (ipykernel)",
   "language": "python",
   "name": "python3"
  },
  "language_info": {
   "codemirror_mode": {
    "name": "ipython",
    "version": 3
   },
   "file_extension": ".py",
   "mimetype": "text/x-python",
   "name": "python",
   "nbconvert_exporter": "python",
   "pygments_lexer": "ipython3",
   "version": "3.7.11"
  }
 },
 "nbformat": 4,
 "nbformat_minor": 5
}
