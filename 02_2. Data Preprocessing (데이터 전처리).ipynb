{
 "cells": [
  {
   "cell_type": "markdown",
   "id": "3138a602",
   "metadata": {},
   "source": [
    "# 《 Goal : 데이터 전처리 과정과 표준점수 이해하기 》 "
   ]
  },
  {
   "cell_type": "markdown",
   "id": "0e25ea5a",
   "metadata": {},
   "source": [
    "---\n",
    "### 【 Chapter_1. 지도 학습 알고리즘 】  \n",
    "$\\,$* 지도 학습 알고리즘은 크게 분류(classification)와 회귀(regression)로 나뉨.   \n",
    "$\\,$ - 분ation)  \n",
    "$\\quad$ : 샘플을 몇개의 클래스(=종류) 중 하나로 분류하는 문제  \n",
    "<br>\n",
    "\n",
    "$\\;$ - 회귀(regression)  \n",
    "$\\;\\;\\;$ ① 임의의 숫자를 예측하는 문제  \n",
    "$\\;\\;\\;$ ② 정해진 클래스(=종류)가 없고 임의의 수치를 출력함.   \n",
    "\n",
    "---"
   ]
  },
  {
   "cell_type": "code",
   "execution_count": null,
   "id": "87dfce62",
   "metadata": {},
   "outputs": [],
   "source": [
    "s"
   ]
  }
 ],
 "metadata": {
  "kernelspec": {
   "display_name": "Python 3 (ipykernel)",
   "language": "python",
   "name": "python3"
  },
  "language_info": {
   "codemirror_mode": {
    "name": "ipython",
    "version": 3
   },
   "file_extension": ".py",
   "mimetype": "text/x-python",
   "name": "python",
   "nbconvert_exporter": "python",
   "pygments_lexer": "ipython3",
   "version": "3.7.11"
  }
 },
 "nbformat": 4,
 "nbformat_minor": 5
}
