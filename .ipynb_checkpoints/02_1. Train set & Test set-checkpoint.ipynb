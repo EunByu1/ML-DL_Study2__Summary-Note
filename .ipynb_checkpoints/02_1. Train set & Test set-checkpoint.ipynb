{
 "cells": [
  {
   "cell_type": "markdown",
   "id": "2486eea7",
   "metadata": {},
   "source": [
    "# 《 Goal : 지도 학습 & 비지도 학습의 차이 배우기 》"
   ]
  },
  {
   "cell_type": "markdown",
   "id": "dbb58d2b",
   "metadata": {},
   "source": [
    "---\n",
    "### 【 Chapter_1. 지도 학습과 비지도 학습 】  \n",
    "* 머신러닝 알고리즘은 크게 지도 학습 & 비지도 학습으로 나눌 수 있음.  \n",
    "$\\,$ - 지도 학습(Supervised Learning)  \n",
    "$\\quad$ ① 입력(데이터)과 타깃(정답)으로 이뤄진 훈련 데이터가 필요함.  \n",
    "$\\quad$ ② 타깃(정답)이 있으니 알고리즘이 정답을 맞히는 것을 학습함.\n",
    "<br>  \n",
    "<br>  \n",
    "\n",
    "$\\quad\\;\\;$ - 비지도 학습(UnSupervised Learning)  \n",
    "$\\quad\\quad\\;\\;$ ① 타깃(정답) 없이 입력 데이터만 필요함.  \n",
    "$\\quad\\quad\\;\\;$ ② 타깃(정답)을 사용하지 않으므로 무언가를 맞힐 수가 없음.  \n",
    "$\\qquad\\quad\\;\\;$ → 대신, 데이터를 그만큼 많이 보다 보니 데이터를 잘 파악하거나 변형하는데 도움을 줄 수 있음.\n",
    "\n",
    "---"
   ]
  },
  {
   "cell_type": "markdown",
   "id": "261af1ff",
   "metadata": {},
   "source": [
    "---\n",
    "### 【 Chapter_2. 】  \n",
    "* 머신러닝 알고리즘은 크게 지도 학습 & 비지도 학습으로 나눌 수 있음.  \n",
    "$\\,$ - 지도 학습(Supervised Learning)  \n",
    "$\\quad$ ① 입력(데이터)과 타깃(정답)으로 이뤄진 훈련 데이터가 필요함.  \n",
    "$\\quad$ ② 타깃(정답)이 있으니 알고리즘이 정답을 맞히는 것을 학습함.\n",
    "<br>  \n",
    "<br>  \n",
    "\n",
    "$\\quad\\;\\;$ - 비지도 학습(UnSupervised Learning)  \n",
    "$\\quad\\quad\\;\\;$ ① 타깃(정답) 없이 입력 데이터만 필요함.  \n",
    "$\\quad\\quad\\;\\;$ ② 타깃(정답)을 사용하지 않으므로 무언가를 맞힐 수가 없음.  \n",
    "$\\qquad\\quad\\;\\;$ → 대신, 데이터를 그만큼 많이 보다 보니 데이터를 잘 파악하거나 변형하는데 도움을 줄 수 있음.\n",
    "\n",
    "---"
   ]
  }
 ],
 "metadata": {
  "kernelspec": {
   "display_name": "Python 3 (ipykernel)",
   "language": "python",
   "name": "python3"
  },
  "language_info": {
   "codemirror_mode": {
    "name": "ipython",
    "version": 3
   },
   "file_extension": ".py",
   "mimetype": "text/x-python",
   "name": "python",
   "nbconvert_exporter": "python",
   "pygments_lexer": "ipython3",
   "version": "3.7.11"
  }
 },
 "nbformat": 4,
 "nbformat_minor": 5
}
