{
 "cells": [
  {
   "cell_type": "markdown",
   "id": "335a1bae",
   "metadata": {},
   "source": [
    "# 《 Goal : 지도 학습 & 비지도 학습의 차이 배우기 》"
   ]
  },
  {
   "cell_type": "markdown",
   "id": "37ecb6f6",
   "metadata": {},
   "source": [
    "---\n",
    "### 【 Chapter_1. 지도 학습(Supervised Learning) & 비지도 학습(UnSupervised Learning) 】  \n",
    "* 머신러닝 알고리즘은 크게 지도 학습 & 비지도 학습으로 나눌 수 있음.  \n",
    "$\\,$ - 지도 학습(Supervised Learning)  \n",
    "$\\quad$ ① 입력(데이터)과 타깃(정답)으로 이뤄진 훈련 데이터가 필요함.  \n",
    "$\\quad$ ② 타깃(정답)이 있으니 알고리즘이 정답을 맞히는 것을 학습함.\n",
    "<br>  \n",
    "<br>  \n",
    "\n",
    "$\\quad\\;\\;$ - 비지도 학습(UnSupervised Learning)  \n",
    "$\\quad\\quad\\;\\;$ ① 타깃(정답) 없이 입력 데이터만 필요함.  \n",
    "$\\quad\\quad\\;\\;$ ② 타깃(정답)을 사용하지 않으므로 무언가를 맞힐 수가 없음.  \n",
    "$\\qquad\\quad\\;\\;$ → 대신, 데이터를 그만큼 많이 보다 보니 데이터를 잘 파악하거나 변형하는데 도움을 줄 수 있음.\n",
    "\n",
    "---"
   ]
  },
  {
   "cell_type": "markdown",
   "id": "1e5c0a31",
   "metadata": {},
   "source": [
    "---\n",
    "### 【 Chapter_2. 훈련 세트(Train Set) & 테스트 세트(Test Set) 】  \n",
    "* 머신러닝의 정확한 평가를 위해서는 훈련 세트(Train Set)와 테스트 세트(Test Set)가 따로 준비되어있어야함.  \n",
    "$\\,$ - 훈련 세트(Train Set)  \n",
    "$\\quad$ : 훈련에 사용되는 데이터 \n",
    "<br>  \n",
    "\n",
    "$\\quad\\;\\;$ - 테스트 세트(Test Set)  \n",
    "$\\quad\\quad\\;\\;$ : 평가에 사용되는 데이터  \n",
    "<br>  \n",
    "\n",
    "$\\quad\\;\\;$ [ 추가 개념 : 샘플이란? ]  \n",
    "$\\quad\\quad\\;\\;$ ① 도미 데이터 35개와 빙어 데이터 14개가 하나의 2차원 리스트에 담김.  \n",
    "$\\quad\\quad\\;\\;$ ② 이때 우리는 전체 데이터가 총 49개의 데이터 즉 샘플로 구성되어 있다고 말할 수 있음.  \n",
    "$\\quad\\quad\\;\\;$ ▶ 결론 : 하나의 데이터를 '샘플'이라고 함.\n",
    "\n",
    "---"
   ]
  },
  {
   "cell_type": "markdown",
   "id": "31d9d858",
   "metadata": {},
   "source": [
    "---\n",
    "### 【 Chapter_3. 샘플링 편향(Sampling Bias) 】  \n",
    "* 훈련에 사용되는 데이터(훈련 데이터)와 평가에 사용되는 데이터(테스트 데이터)가 골고루 섞여 있어야 제대로 된 지도 학습 모델을 만들 수 있음.  \n",
    "$\\,$ - 샘플링 편향(Sampling Bias)  \n",
    "$\\quad$ ① 훈련에 사용되는 데이터(훈련 데이터)와 평가에 사용되는 데이터(테스트 데이터)가 골고루 섞여 있지 않을 때 발생함.  \n",
    "$\\quad$ ② 특정 클래스(종류)의 샘플이 과도하게 많은 경우 이를 샘플링 편향이라고 함.  \n",
    "$\\quad\\quad$→ ex) 도미와 빙어 클래스(종류)가 있다고 가정했을 때, 도미라는 특정 클래스(종류)의 데이터(샘플)가 과도하게 많이 있는 경우 이를 샘플링 편향이라 함.\n",
    "\n",
    "---"
   ]
  },
  {
   "cell_type": "markdown",
   "id": "bc0a447c",
   "metadata": {},
   "source": [
    "---\n",
    "### 【 Chapter_4. 넘파이(Numpy) 】  \n",
    "* 넘파이는 고차원의 배열을 손쉽게 만들고,조작할 수 있도록 간편한 도구를 많이 제공함.  \n",
    "$\\,$ - 넘파이(Numpy)  \n",
    "$\\quad$ : 파이썬의 대표적인 배열 라이브러리임.  \n",
    "$\\quad$ ① 배열에서 차원은 좌표계의 축과 같음.  \n",
    "$\\qquad\\;$→ 보통의 xy좌표계와는 달리 시작점이 왼쪽 아래가 아닌 왼쪽 위에서부터 시작함\n",
    "<br>  \n",
    "<br>  \n",
    "\n",
    "$\\quad\\;\\;$ - 비지도 학습(UnSupervised Learning)  \n",
    "$\\quad\\quad\\;\\;$ ① 타깃(정답) 없이 입력 데이터만 필요함.  \n",
    "$\\quad\\quad\\;\\;$ ② 타깃(정답)을 사용하지 않으므로 무언가를 맞힐 수가 없음.  \n",
    "$\\qquad\\quad\\;\\;$ → 대신, 데이터를 그만큼 많이 보다 보니 데이터를 잘 파악하거나 변형하는데 도움을 줄 수 있음.\n",
    "\n",
    "---"
   ]
  },
  {
   "cell_type": "code",
   "execution_count": null,
   "id": "b394a125",
   "metadata": {},
   "outputs": [],
   "source": []
  }
 ],
 "metadata": {
  "kernelspec": {
   "display_name": "Python 3 (ipykernel)",
   "language": "python",
   "name": "python3"
  },
  "language_info": {
   "codemirror_mode": {
    "name": "ipython",
    "version": 3
   },
   "file_extension": ".py",
   "mimetype": "text/x-python",
   "name": "python",
   "nbconvert_exporter": "python",
   "pygments_lexer": "ipython3",
   "version": "3.7.11"
  }
 },
 "nbformat": 4,
 "nbformat_minor": 5
}
