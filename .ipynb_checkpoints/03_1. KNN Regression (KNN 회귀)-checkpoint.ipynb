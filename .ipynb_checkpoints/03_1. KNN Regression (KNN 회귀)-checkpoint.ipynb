{
 "cells": [
  {
   "cell_type": "markdown",
   "id": "394f3fd7",
   "metadata": {},
   "source": [
    "# 《 Goal : k-최근접 이웃 알고리즘을 이용해서 회귀 문제 풀기 》 "
   ]
  },
  {
   "cell_type": "markdown",
   "id": "d0a0b4fc",
   "metadata": {},
   "source": [
    "---\n",
    "### 【 Chapter_1. 지도 학습 알고리즘 】  \n",
    "$\\,$* 지도 학습 알고리즘은 크게 분류(classification)와 회귀(regression)로 나뉨.   \n",
    "$\\,$ - 분류(classification)  \n",
    "$\\quad$ : 샘플을 몇개의 클래스(=종류) 중 하나로 분류하는 문제  \n",
    "<br>\n",
    "<br>  \n",
    "\n",
    "$\\quad\\;\\;$ - 회귀(regression)  \n",
    "$\\quad\\quad\\;\\;$ ① 임의의 숫자를 예측하는 문제  \n",
    "$\\quad\\quad\\;\\;$ ② 정해진 클래스(=종류)가 없고 임의의 수치를 출력함.   \n",
    "\n",
    "---"
   ]
  },
  {
   "cell_type": "markdown",
   "id": "4e83c05b",
   "metadata": {},
   "source": [
    "---\n",
    "### 【 Chapter_2. KNN Classification & KNN Regression 】  \n",
    "$\\,$ - KNN Classification 작동 원리  \n",
    "$\\;\\;\\;$ ① 예측하려는 샘플에 가장 가까운 샘플 k개를 선택  \n",
    "$\\;\\;\\;$ ② 선택된 k개의 샘플들의 클래스(=종류) 확인  \n",
    "$\\;\\;\\;$ ③ 다수를 차지하고 있는 클래스(=종류)를 예측하려는 샘플의 클래스(=종류)로 예측  \n",
    "<br>\n",
    "<br>  \n",
    "\n",
    "$\\;$ - KNN Regression 작동 원리  \n",
    "$\\;\\;\\;$ ① 예측하려는 샘플에 가장 가까운 샘플 k개를 선택  \n",
    "$\\qquad\\,$ → 회귀이기 때문에 이웃한 샘플의 타깃(=정답)은 KNN Classification의 샘플들과 같은 어떤 클래스(=종류)가 아니라 임의의 수치임  \n",
    "$\\quad$ ② 선택된 K개의 샘플들의 타깃(=정답)을 이용하여 평균을 구함.  \n",
    "$\\quad$ ③ ②번에서 나온 결과가 곧 예측하려는 샘플의 타깃(=정답)임.\n",
    "\n",
    "---"
   ]
  },
  {
   "cell_type": "markdown",
   "id": "9915b34f",
   "metadata": {},
   "source": [
    "---\n",
    "### 【 Chapter_3-1. reshape() 메서드 ① 】  \n",
    "$\\,$ - 행렬  \n",
    "$\\quad$ : (4,1) = 4 by 1(4x1)행렬   \n",
    "$\\quad\\;\\,$ → 행: 4, 열: 1, 원소의 개수(행x열): 4x1 = 4개  \n",
    "<br>   \n",
    "\n",
    "$\\,$ - reshape()메서드  \n",
    "$\\;\\;\\;$ ① 넘파이 배열의 크기를 변경해줌.  \n",
    "\n",
    "---"
   ]
  },
  {
   "cell_type": "code",
   "execution_count": 13,
   "id": "9b34dc97",
   "metadata": {},
   "outputs": [
    {
     "name": "stdout",
     "output_type": "stream",
     "text": [
      "[ 0  1  2  3  4  5  6  7  8  9 10 11]\n",
      "[ 0  1  2  3  4  5  6  7  8  9 10 11]\n",
      "[[ 0]\n",
      " [ 1]\n",
      " [ 2]\n",
      " [ 3]\n",
      " [ 4]\n",
      " [ 5]\n",
      " [ 6]\n",
      " [ 7]\n",
      " [ 8]\n",
      " [ 9]\n",
      " [10]\n",
      " [11]]\n"
     ]
    }
   ],
   "source": [
    "import numpy as np \n",
    "# 총 12개의 원소들(0~11)로 배열(=행렬)을 만들어라.\n",
    "# 이때 배열(=행렬)을 만들 때, 행과 열의 구분이 없으므로 1차원으로 만들어라. \n",
    "a = np.arange(12)\n",
    "print(a)\n",
    "print() # enter\n",
    "\n",
    "# 총 12개의 원소들(0~11)로 배열(=행렬)을 만들어라.\n",
    "# 이때도 위와 마찬가지로, 1차원 배열(행렬)을 만들라는 뜻이다.\n",
    "# why? : 값과 ,를 통해 행과 열이 구분되어야 하는데 ,를 기준으로 값이 하나만 있기 때문이다.\n",
    "b = a.reshape(12,)\n",
    "print(b)\n",
    "print() # enter\n",
    "\n",
    "# 총 12개의 원소들(0~11)로 배열(=행렬)을 만들어라. \n",
    "# 이때는 ,를 기준으로 값이 존재하고 구분되어 있기 때문에, 행과 열이 주어진 형태다.\n",
    "# 때문에 아래를 해석하게 되면, 12행 1열(==(12 by 1) ==(12x1))을 만들라는 뜻이다.\n",
    "c = a.reshape(12,1)\n",
    "print(c)\n",
    "print() # enter\n",
    "\n",
    "# 【 정리 】\n",
    "# reshape() 메서드의 ()안에 값들이 행렬이 되기 위해서는 \n",
    "# ① ,가 존재해야한다.\n",
    "# ② ,를 기준으로 값들이 존재해야 한다. "
   ]
  },
  {
   "cell_type": "markdown",
   "id": "e6b0a613",
   "metadata": {},
   "source": [
    "---\n",
    "### 【 Chapter_3-2. reshape() 메서드 ② 】  \n",
    "$\\,$ - 크기에 -1이 있을 때, -1을 해석하는 방법  \n",
    "$\\quad$ ① 예를 들어, 원소의 개수가 총 12개있고 reshape의 형태가 reshape(-1,3)이라고 가정해보자.  \n",
    "$\\quad$ ② 이때 \"행 x 열 = 원소의 개수\"이며, \"reshape()메서드 안의 형태는 (행,열)\"이라는 것을 우리는 알고있다.(★ 모르면 암기 필요)  \n",
    "$\\quad$ ③ 때문에 ②번을 이용해서 ①번을 풀게되면, 행 x 열 = ○ x 3 = 12이며 이때 ○은 4라는 것을 알 수 있다.  \n",
    "$\\quad$ ④ 결론적으로 reshape(-1,3)형태에서 -1은 4라는 것을 알 수 있다.    \n",
    "\n",
    "---"
   ]
  },
  {
   "cell_type": "code",
   "execution_count": 19,
   "id": "e453a7a3",
   "metadata": {},
   "outputs": [
    {
     "name": "stdout",
     "output_type": "stream",
     "text": [
      "[[ 0  1  2  3]\n",
      " [ 4  5  6  7]\n",
      " [ 8  9 10 11]]\n",
      "\n",
      "[[ 0  1  2]\n",
      " [ 3  4  5]\n",
      " [ 6  7  8]\n",
      " [ 9 10 11]]\n",
      "\n",
      "\n",
      "[ 0  1  2  3  4  5  6  7  8  9 10 11 12 13 14 15 16 17 18 19 20 21 22 23\n",
      " 24 25 26 27 28 29]\n",
      "\n",
      "[[ 0]\n",
      " [ 1]\n",
      " [ 2]\n",
      " [ 3]\n",
      " [ 4]\n",
      " [ 5]\n",
      " [ 6]\n",
      " [ 7]\n",
      " [ 8]\n",
      " [ 9]\n",
      " [10]\n",
      " [11]]\n",
      "\n"
     ]
    }
   ],
   "source": [
    "import numpy as np \n",
    "# 총 12개의 원소를 가지고, 3행 4열(=(3 by 4) ==(3x4))형태로 행렬(배열)을 만들어라.\n",
    "a = np.arange(12).reshape(3,4)\n",
    "print(a)\n",
    "print() # enter\n",
    "\n",
    "# (○)행 x (3)열 = (12)총 원소의 개수, ∴ (○)행 = -1 = 4 \n",
    "# a = 4행 3열(=4x3행렬) 형태임\n",
    "a = a.reshape(-1,3)\n",
    "print(a) \n",
    "print() # enter\n",
    "print() # enter\n",
    "\n",
    "# 원소의 개수가 총 30개인 1차원 배열을 만들어라 \n",
    "b = np.arange(30)\n",
    "print(b)\n",
    "print() # enter\n",
    "\n",
    "# (5)행 x (●)열 = (30)총 원소의 개수, ∴(●)열 = -1 = 6\n",
    "#  b = 5행 6열(=5x6행렬) 형태임 \n",
    "b = b.reshape(5,-1)\n",
    "print(c)\n",
    "print() # enter"
   ]
  },
  {
   "cell_type": "markdown",
   "id": "4a5e3852",
   "metadata": {},
   "source": [
    "---\n",
    "### 【 Chapter_4. 결정계수(R²) 】    \n",
    "$\\,$ - score() 메서드를 통한 분류(classification) 점수 vs 회귀(regression) 점수  \n",
    "$\\quad$ ① 분류(classification)의 경우 : 샘플을 정확하게 분류한 개수의 비율로 평가   \n",
    "$\\quad$ ② 회귀(regression)의 경우 : 결정계수로 평가  \n",
    "$\\qquad\\;$→ ※ 분류(classification)와 똑같은 방법으로 회귀를 평가하지 않는 이유  \n",
    "$\\qquad\\quad\\;\\,$ <회귀> (예측하는 값 : 임의의 수치 / 타깃 값 : 임의의 수치) ▶ 정확하게 맞춘다는게 거의 불가능에 가까움  \n",
    "$\\qquad\\quad\\;\\,\\qquad\\quad$▶ 분류와 같은 방법으로 평가하면 의미가 없음\n",
    "<br>\n",
    "<br>  \n",
    "<br>  \n",
    "\n",
    "$\\;$ - 결정계수(R²)  \n",
    "$\\quad$ ① 분모 : 타깃과 타깃 평균의 차이를 제곱하여 더한 값  \n",
    "$\\quad$ ② 분자 : 타깃과 예측한 값의 차이를 제곱하여 더한 값  \n",
    "$\\quad$ ③ 타깃의 평균정도를 예측하는 수준이라면 분모와 분자가 비슷해져, R²은 0에 가까워짐.  \n",
    "$\\quad$ ④ 예측이 타깃에 아주 가까워지면 분자가 0에 가까워져, R²은 1에 가까워짐.  \n",
    "$\\quad$ ⑤ 결정계수(R²)이 높을 수록 좋음.\n",
    "$\\quad$ ![결정계수 수식](img/결정계수.jpg)  \n",
    "<br>  \n",
    "<br>  \n",
    "<br>  \n",
    "\n",
    "$\\;$ -  mean_absolute_error(타깃, 예측한 값)  \n",
    "$\\quad$ : 타깃과 예측한 값 사이의 오차가 평균적으로 얼마인지 궁금할 때 사용\n",
    "\n",
    "\n",
    "\n",
    "---"
   ]
  },
  {
   "cell_type": "code",
   "execution_count": null,
   "id": "5d7587a5",
   "metadata": {},
   "outputs": [],
   "source": []
  }
 ],
 "metadata": {
  "kernelspec": {
   "display_name": "Python 3 (ipykernel)",
   "language": "python",
   "name": "python3"
  },
  "language_info": {
   "codemirror_mode": {
    "name": "ipython",
    "version": 3
   },
   "file_extension": ".py",
   "mimetype": "text/x-python",
   "name": "python",
   "nbconvert_exporter": "python",
   "pygments_lexer": "ipython3",
   "version": "3.7.11"
  }
 },
 "nbformat": 4,
 "nbformat_minor": 5
}
