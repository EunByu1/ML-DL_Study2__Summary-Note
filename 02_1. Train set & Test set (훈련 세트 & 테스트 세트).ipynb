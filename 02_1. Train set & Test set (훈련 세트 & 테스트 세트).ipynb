{
 "cells": [
  {
   "cell_type": "markdown",
   "id": "335a1bae",
   "metadata": {},
   "source": [
    "# 《 Goal : 지도 학습 & 비지도 학습의 차이 배우기 》 "
   ]
  },
  {
   "cell_type": "markdown",
   "id": "37ecb6f6",
   "metadata": {},
   "source": [
    "---\n",
    "### 【 Chapter_1. 지도 학습(Supervised Learning) & 비지도 학습(UnSupervised Learning) 】  \n",
    "* 머신러닝 알고리즘은 크게 지도 학습 & 비지도 학습으로 나눌 수 있음.  \n",
    "$\\,$ - 지도 학습(Supervised Learning)  \n",
    "$\\quad$ ① 입력(데이터)과 타깃(정답)으로 이뤄진 훈련 데이터가 필요함.  \n",
    "$\\quad$ ② 타깃(정답)이 있으니 알고리즘이 정답을 맞히는 것을 학습함.\n",
    "<br>  \n",
    "<br>  \n",
    "\n",
    "$\\quad\\;\\;$ - 비지도 학습(UnSupervised Learning)  \n",
    "$\\quad\\quad\\;\\;$ ① 타깃(정답) 없이 입력 데이터만 필요함.  \n",
    "$\\quad\\quad\\;\\;$ ② 타깃(정답)을 사용하지 않으므로 무언가를 맞힐 수가 없음.  \n",
    "$\\qquad\\quad\\;\\;$ → 대신, 데이터를 그만큼 많이 보다 보니 데이터를 잘 파악하거나 변형하는데 도움을 줄 수 있음.\n",
    "\n",
    "---"
   ]
  },
  {
   "cell_type": "markdown",
   "id": "1e5c0a31",
   "metadata": {},
   "source": [
    "---\n",
    "### 【 Chapter_2. 훈련 세트(Train Set) & 테스트 세트(Test Set) 】  \n",
    "* 머신러닝의 정확한 평가를 위해서는 훈련 세트(Train Set)와 테스트 세트(Test Set)가 따로 준비되어있어야함.  \n",
    "$\\,$ - 훈련 세트(Train Set)  \n",
    "$\\quad$ : 훈련에 사용되는 데이터 \n",
    "<br>  \n",
    "\n",
    "$\\quad\\;\\;$ - 테스트 세트(Test Set)  \n",
    "$\\quad\\quad\\;\\;$ : 평가에 사용되는 데이터  \n",
    "<br>  \n",
    "\n",
    "$\\quad\\;\\;$ [ 추가 개념 : 샘플이란? ]  \n",
    "$\\quad\\quad\\;\\;$ ① 도미 데이터 35개와 빙어 데이터 14개가 하나의 2차원 리스트에 담김.  \n",
    "$\\quad\\quad\\;\\;$ ② 이때 우리는 전체 데이터가 총 49개의 데이터 즉 샘플로 구성되어 있다고 말할 수 있음.  \n",
    "$\\quad\\quad\\;\\;$ ▶ 결론 : 하나의 데이터를 '샘플'이라고 함.\n",
    "\n",
    "---"
   ]
  },
  {
   "cell_type": "markdown",
   "id": "84bfffae",
   "metadata": {},
   "source": [
    "---\n",
    "### 【 Chapter_3. 샘플링 편향(Sampling Bias) 】  \n",
    "* 훈련에 사용되는 데이터(훈련 데이터)와 평가에 사용되는 데이터(테스트 데이터)가 골고루 섞여 있어야 제대로 된 지도 학습 모델을 만들 수 있음.  \n",
    "$\\,$ - 샘플링 편향(Sampling Bias)  \n",
    "$\\quad$ ① 훈련에 사용되는 데이터(훈련 데이터)와 평가에 사용되는 데이터(테스트 데이터)가 골고루 섞여 있지 않을 때 발생함.  \n",
    "$\\quad$ ② 특정 클래스(종류)의 샘플이 과도하게 많은 경우 이를 샘플링 편향이라고 함.  \n",
    "$\\quad\\quad$→ ex) 도미와 빙어 클래스(종류)가 있다고 가정했을 때, 도미라는 특정 클래스(종류)의 데이터(샘플)가 과도하게 많이 있는 경우 이를 샘플링 편향이라 함.\n",
    "\n",
    "---"
   ]
  },
  {
   "cell_type": "markdown",
   "id": "bc0a447c",
   "metadata": {},
   "source": [
    "---\n",
    "### 【 Chapter_4. 넘파이(Numpy) 】  \n",
    "* 넘파이는 고차원의 배열을 손쉽게 만들고, 조작할 수 있도록 간편한 도구를 많이 제공함.  \n",
    "$\\,$ - 넘파이(Numpy)  \n",
    "$\\quad$ : 파이썬의 대표적인 배열 라이브러리임.  \n",
    "$\\quad\\;\\,$ * 배열에서 차원은 좌표계의 축과 같음.  \n",
    "$\\qquad\\;$→ 보통의 xy좌표계와는 달리 시작점이 왼쪽 아래가 아닌 왼쪽 위에서부터 시작함\n",
    "<br>  \n",
    "<br>  \n",
    "\n",
    "$\\quad\\;\\;$ - 넘파이 함수  \n",
    "$\\quad\\quad\\;\\;$ ① array(리스트) : 파이썬 리스트를 넘파이 배열로 변환해줌.  \n",
    "$\\quad\\quad\\;\\;$ ② 배열 객체.shape: 샘플 수와 특성 수를 차례대로 알려줌. → (샘플 수, 특성 수) = (행, 열)  \n",
    "$\\quad\\quad\\;\\;$ ③ arange(정수 or 실수): 일정한 간격의 정수 또는 실수 배열을 만듦.  \n",
    "$\\quad\\quad\\;\\;$ ④ np.random.seed(정수) : 지정된 정수 값에 맞는 난수를 생성함.  \n",
    "$\\quad\\quad\\;\\;$ ⑤ np.random.shuffle(배열) : 주어진 배열을 랜덤하게 섞음.  \n",
    "$\\qquad\\quad\\;\\;$ → 다차원 배열일 경우 첫 번째 축(행)에 대해서만 섞음.  \n",
    "\n",
    "---"
   ]
  },
  {
   "cell_type": "markdown",
   "id": "4ae9a2a1",
   "metadata": {},
   "source": [
    "---\n",
    "### 【 Chapter_5(1). 넘파이를 이용하여 배열 생성 방법 - ① 】    \n",
    "$\\;$ - 1. 이해하기 : (a = [[1,2],[3,4],[5,6]])  \n",
    "$\\quad$ ① 껍데기 리스트 : 배열을 만들라는 뜻으로 이해하면 됨.  \n",
    "$\\qquad\\;$ → 성분이 [1,2],[3,4],[5,6]인 배열을 만들어라!\n",
    "\n",
    "$\\quad$ ② 성분 '한'개당 배열에서 '한'행을 이룸.  \n",
    "$\\qquad\\;$ → 즉, 배열에서 [1,2]는 1행이 되고, [3,4]는 2행, [5,6]은 3행이 됨!  \n",
    "\n",
    "$\\quad$ ▶ 결과적으로 아래와 같은 형태의 배열이 생성되게 됨!   \n",
    "\n",
    "---\n"
   ]
  },
  {
   "cell_type": "code",
   "execution_count": 15,
   "id": "23f86d5f",
   "metadata": {},
   "outputs": [
    {
     "name": "stdout",
     "output_type": "stream",
     "text": [
      "[[1 2]\n",
      " [3 4]\n",
      " [5 6]]\n"
     ]
    }
   ],
   "source": [
    "import numpy as np\n",
    "a = [[1,2], [3,4], [5,6]]\n",
    "b = np.array(a)  \n",
    "print(b)"
   ]
  },
  {
   "cell_type": "markdown",
   "id": "e0bf1313",
   "metadata": {},
   "source": [
    "---\n",
    "### 【 Chapter_5(2). 넘파이를 이용하여 배열 생성 방법 - ②  】   \n",
    "$\\,$ - 배열을 만들기 위한 조건 ①  \n",
    "$\\quad$ * 배열을 만들 때는 꼬라지가 서로 같아야 함.([[1,2], [3,4]]와 ((5,6), (7,8))의 꼬라지가 서로 같음 → 만들기 가능!)  \n",
    "$\\qquad\\;$ ① a = [[[1,2], [3,4]], ((5,6), (7,8))]이 있다고 가정했을 때, 겉 리스트를 해석하면 배열을 만들라는 뜻임.  \n",
    "$\\qquad\\;$ ② [[1,2], [3,4]]를 A로 치환하고 ((5,6), (7,8))을 B로 치환하면, 현재까지 배열 형태는 아래와 같음.  \n",
    "$\\qquad\\quad\\;\\;$형태 : [ A  \n",
    "$\\qquad\\qquad\\qquad$ B ]  \n",
    "$\\qquad\\;$ ③ 이때 A = [[1,2], [3,4]]인데 이를 따로 해석해보면, [1,2], [3,4]를 성분으로 갖는 배열을 만들라는 뜻임.  \n",
    "$\\qquad\\;$ ④ 그래서 A를 다시 재구성하면 아래와 같이 됨.  \n",
    "$\\qquad\\quad\\;$ 형태 : [ [1,2]  \n",
    "$\\qquad\\qquad\\qquad$ [3,4] ]    \n",
    "$\\qquad\\;$ ⑤ B도 위와 같은 형태로 풀면 아래와 같은 형태가 됨.(※ 배열을 만드는 과정에서, 튜플은 리스트 형태로 재구성됨.)  \n",
    "$\\qquad\\quad\\;$ 형태 : [ [5,6]  \n",
    "$\\qquad\\qquad\\qquad$ [7,8] ]  \n",
    "$\\qquad\\;$ ⑥ 위와 같은 형태로 완성된 A와 B는 ②형태에 다시 대입함으로써, 최종적인 배열은 아래와 같은 형태가 됨.  \n",
    "$\\qquad\\;$ ▶ 결과는 코드 참고바람\n",
    "\n",
    "--- "
   ]
  },
  {
   "cell_type": "code",
   "execution_count": 24,
   "id": "d571e8f8",
   "metadata": {},
   "outputs": [
    {
     "name": "stdout",
     "output_type": "stream",
     "text": [
      "[[[1 2]\n",
      "  [3 4]]\n",
      "\n",
      " [[5 6]\n",
      "  [7 8]]]\n"
     ]
    }
   ],
   "source": [
    "a = [[[1, 2],[3, 4]],\n",
    "     ((5, 6),(7,8))]\n",
    "b = np.array(a)\n",
    "print(b)\n"
   ]
  },
  {
   "cell_type": "markdown",
   "id": "669d4514",
   "metadata": {},
   "source": [
    "---\n",
    "### 【 Chapter_5(3). 넘파이를 이용하여 배열 생성 방법 - ③  】   \n",
    "$\\,$ - 배열을 만들기 위한 조건 ②  \n",
    "$\\quad$ * 인덱스마다 값의 성분이 서로 같아야 함. (단,튜플은 리스트로 바뀔 수 있으므로 값의 개수가 비교 할 리스트의 개수와 같아야 함.)  \n",
    "$\\qquad$→ 다르면, 아래와 같은 오류가 발생함.\n",
    "\n",
    "--- "
   ]
  },
  {
   "cell_type": "code",
   "execution_count": 26,
   "id": "24424e82",
   "metadata": {},
   "outputs": [
    {
     "name": "stdout",
     "output_type": "stream",
     "text": [
      "[list([1, 2]) 3 4]\n"
     ]
    },
    {
     "name": "stderr",
     "output_type": "stream",
     "text": [
      "C:\\Users\\82105\\anaconda3\\envs\\tensorflow\\lib\\site-packages\\ipykernel_launcher.py:2: VisibleDeprecationWarning: Creating an ndarray from ragged nested sequences (which is a list-or-tuple of lists-or-tuples-or ndarrays with different lengths or shapes) is deprecated. If you meant to do this, you must specify 'dtype=object' when creating the ndarray.\n",
      "  \n"
     ]
    }
   ],
   "source": [
    "a = [[1,2], 3, 4] # 첫 번째 인덱스의 값의 성분은 리스트([1,2])이고, 두 번째 인덱스의 값의 성분은 정수(3), 세 번째 인덱스의 값의 성분도 정수(4)임.\n",
    "b = np.array(a)\n",
    "print(b)"
   ]
  },
  {
   "cell_type": "markdown",
   "id": "81758ba0",
   "metadata": {},
   "source": [
    "---\n",
    "### 【 Chapter_6(1). 배열 인덱싱(Array Indexing) 확장 ① 】  \n",
    "$\\,$ - 배열 인덱싱(Array Indexing)  \n",
    "$\\quad$ : 배열에서 사용하는 인덱싱(≠ 리스트 인덱싱)    \n",
    "<br> \n",
    "$\\,$ - 배열 인덱싱(Array Indexing)을 이용하여 행 추출 방법  \n",
    "$\\quad$ ① 2차원 리스트가 있다고 가정했을 때, 첫 번째 인덱스 값은 행이 되고, 2번째 인덱스 값은 열이 됨.  \n",
    "$\\quad$ ② 그래서 아래와 같이 b배열에서 첫 번째 인덱스값을 0과 1로 지정하게 되면, 0행과 1행이 출력 되게 됨.  \n",
    "  \n",
    "---\n"
   ]
  },
  {
   "cell_type": "code",
   "execution_count": 19,
   "id": "74b431a0",
   "metadata": {},
   "outputs": [
    {
     "name": "stdout",
     "output_type": "stream",
     "text": [
      "[[1 2]\n",
      " [3 4]]\n"
     ]
    }
   ],
   "source": [
    "a = [[1,2],[3,4],[5,6]]\n",
    "b = np.array(a)\n",
    "\n",
    "print(b[[0,1]])       # 바깥쪽 리스트는 배열을 뜻하고, 안쪽 리스트([0,1])는 행을 뜻함."
   ]
  },
  {
   "cell_type": "markdown",
   "id": "f5b87046",
   "metadata": {},
   "source": [
    "---\n",
    "### 【 Chapter_6(2). 배열 인덱싱(Array Indexing) 확장 ②  】   \n",
    "$\\,$ - 배열 인덱싱(Array Indexing)으로 특정 값 추출 방법  \n",
    "$\\quad$ * 성분이 하나라도 리스트로 묶여 있을 경우 : 리스트 형태의 결과값이 return됨  \n",
    "$\\quad\\;\\;$ → print(b[[0],1])에서 b배열의 첫 번째 인덱스(행)에 해당하는 값이 리스트 형태이므로([0]), 결과는 리스트 형태의 값이 return됨.  \n",
    "\n",
    "--- "
   ]
  },
  {
   "cell_type": "code",
   "execution_count": 22,
   "id": "6acb4521",
   "metadata": {},
   "outputs": [
    {
     "name": "stdout",
     "output_type": "stream",
     "text": [
      "[2]\n",
      "[2]\n",
      "[[1 2]\n",
      " [3 4]]\n",
      "[1 3]\n"
     ]
    }
   ],
   "source": [
    "a = [[1,2],[3,4],[5,6]]\n",
    "b = np.array(a)\n",
    "\n",
    "# b의 0번째 행 1번째 열\n",
    "print(b[[0],1])\n",
    "\n",
    "# b의 0번째 행 1번째 열\n",
    "print(b[[0],[1]])\n",
    "\n",
    "# b의 0,1번째 행\n",
    "print(b[[0,1]])\n",
    "\n",
    "# b의 0,1번째 행 0번째 열 => 0번째 행의 0번째 열, 1번째 행의 0번째 열\n",
    "print(b[[0,1],0])"
   ]
  }
 ],
 "metadata": {
  "kernelspec": {
   "display_name": "Python 3 (ipykernel)",
   "language": "python",
   "name": "python3"
  },
  "language_info": {
   "codemirror_mode": {
    "name": "ipython",
    "version": 3
   },
   "file_extension": ".py",
   "mimetype": "text/x-python",
   "name": "python",
   "nbconvert_exporter": "python",
   "pygments_lexer": "ipython3",
   "version": "3.7.11"
  }
 },
 "nbformat": 4,
 "nbformat_minor": 5
}
